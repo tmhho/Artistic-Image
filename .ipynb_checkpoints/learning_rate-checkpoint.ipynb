{
 "cells": [
  {
   "cell_type": "code",
   "execution_count": 10,
   "metadata": {},
   "outputs": [],
   "source": [
    "def Wolfe_learning_rate(f, gradf, x, d,s0=0, eps1 = 1e-4, eps2 = 0.9, itermax = 10):\n",
    "#     d : search direction\n",
    "#     s0 : first approximation of learning rate\n",
    "#     0 < esp1 < eps2 < 1\n",
    "#     k := 0 ; s− = 0 ; s+ = +∞;\n",
    "    k, sn , sp = 0,0, 1e8\n",
    "    s = s0 \n",
    "#     d = gradf(x)\n",
    "    iter = 1\n",
    "    cond1 = f(x+s*d) <= f(x) + eps1*s*gradf(x).T.dot(d)\n",
    "    cond2 = grad(x+s*d).T.dot(d) >= eps2*gradf(x).T.dot(d)\n",
    "    while iter < itermax and not cond1 and not cond2 :\n",
    "        if not cond1: \n",
    "            sp = s\n",
    "            s = (sn + sp)/2.\n",
    "        elif not cond2:\n",
    "            sn = s\n",
    "            if sp < 1e8:\n",
    "                s = (sn + sp)/2.\n",
    "            else:\n",
    "                s = 2*s \n",
    "        cond1 = f(x+s*d) <= f(x) + eps1*s*gradf(x).T.dot(d)\n",
    "        cond2 = grad(x+s*d).T.dot(d) >= eps2*gradf(x).T.dot(d)\n",
    "        iter += 1 \n",
    "    return s "
   ]
  },
  {
   "cell_type": "code",
   "execution_count": 13,
   "metadata": {},
   "outputs": [
    {
     "name": "stdout",
     "output_type": "stream",
     "text": [
      "[3.6, 3.4]\n"
     ]
    },
    {
     "data": {
      "text/plain": [
       "(1.0, 2, 1, 1.1300000000000001, 6.13, [1.6, 1.4])"
      ]
     },
     "execution_count": 13,
     "metadata": {},
     "output_type": "execute_result"
    }
   ],
   "source": [
    "from scipy.optimize import line_search\n",
    "import numpy as np\n",
    "def obj_func(x):\n",
    "    return (x[0])**2+(x[1])**2\n",
    "def obj_grad(x):\n",
    "    return [2*x[0], 2*x[1]]\n",
    "start_point = np.array([1.8, 1.7])\n",
    "search_gradient = np.array([-1.0, -1.0])\n",
    "print(obj_grad(start_point))\n",
    "line_search(obj_func, obj_grad, start_point, search_gradient)\n",
    "# (1.0, 2, 1, 1.1300000000000001, 6.13, [1.6, 1.4])"
   ]
  },
  {
   "cell_type": "code",
   "execution_count": 12,
   "metadata": {},
   "outputs": [
    {
     "ename": "NameError",
     "evalue": "name 'x' is not defined",
     "output_type": "error",
     "traceback": [
      "\u001b[0;31m---------------------------------------------------------------------------\u001b[0m",
      "\u001b[0;31mNameError\u001b[0m                                 Traceback (most recent call last)",
      "\u001b[0;32m<ipython-input-12-150f6a9a95da>\u001b[0m in \u001b[0;36m<module>\u001b[0;34m\u001b[0m\n\u001b[0;32m----> 1\u001b[0;31m \u001b[0mWolfe_learning_rate\u001b[0m\u001b[0;34m(\u001b[0m\u001b[0mobj_func\u001b[0m\u001b[0;34m,\u001b[0m\u001b[0mobj_grad\u001b[0m\u001b[0;34m,\u001b[0m\u001b[0mstart_point\u001b[0m\u001b[0;34m,\u001b[0m \u001b[0msearch_gradient\u001b[0m\u001b[0;34m)\u001b[0m\u001b[0;34m\u001b[0m\u001b[0;34m\u001b[0m\u001b[0m\n\u001b[0m",
      "\u001b[0;32m<ipython-input-10-fb57f9fe6b07>\u001b[0m in \u001b[0;36mWolfe_learning_rate\u001b[0;34m(f, gradf, s0, d, eps1, eps2, itermax)\u001b[0m\n\u001b[1;32m      8\u001b[0m \u001b[0;31m#     d = gradf(x)\u001b[0m\u001b[0;34m\u001b[0m\u001b[0;34m\u001b[0m\u001b[0;34m\u001b[0m\u001b[0m\n\u001b[1;32m      9\u001b[0m     \u001b[0miter\u001b[0m \u001b[0;34m=\u001b[0m \u001b[0;36m1\u001b[0m\u001b[0;34m\u001b[0m\u001b[0;34m\u001b[0m\u001b[0m\n\u001b[0;32m---> 10\u001b[0;31m     \u001b[0mcond1\u001b[0m \u001b[0;34m=\u001b[0m \u001b[0mf\u001b[0m\u001b[0;34m(\u001b[0m\u001b[0mx\u001b[0m\u001b[0;34m+\u001b[0m\u001b[0ms\u001b[0m\u001b[0;34m*\u001b[0m\u001b[0md\u001b[0m\u001b[0;34m)\u001b[0m \u001b[0;34m<=\u001b[0m \u001b[0mf\u001b[0m\u001b[0;34m(\u001b[0m\u001b[0mx\u001b[0m\u001b[0;34m)\u001b[0m \u001b[0;34m+\u001b[0m \u001b[0meps1\u001b[0m\u001b[0;34m*\u001b[0m\u001b[0ms\u001b[0m\u001b[0;34m*\u001b[0m\u001b[0mgradf\u001b[0m\u001b[0;34m(\u001b[0m\u001b[0mx\u001b[0m\u001b[0;34m)\u001b[0m\u001b[0;34m.\u001b[0m\u001b[0mT\u001b[0m\u001b[0;34m.\u001b[0m\u001b[0mdot\u001b[0m\u001b[0;34m(\u001b[0m\u001b[0md\u001b[0m\u001b[0;34m)\u001b[0m\u001b[0;34m\u001b[0m\u001b[0;34m\u001b[0m\u001b[0m\n\u001b[0m\u001b[1;32m     11\u001b[0m     \u001b[0mcond2\u001b[0m \u001b[0;34m=\u001b[0m \u001b[0mgrad\u001b[0m\u001b[0;34m(\u001b[0m\u001b[0mx\u001b[0m\u001b[0;34m+\u001b[0m\u001b[0ms\u001b[0m\u001b[0;34m*\u001b[0m\u001b[0md\u001b[0m\u001b[0;34m)\u001b[0m\u001b[0;34m.\u001b[0m\u001b[0mT\u001b[0m\u001b[0;34m.\u001b[0m\u001b[0mdot\u001b[0m\u001b[0;34m(\u001b[0m\u001b[0md\u001b[0m\u001b[0;34m)\u001b[0m \u001b[0;34m>=\u001b[0m \u001b[0meps2\u001b[0m\u001b[0;34m*\u001b[0m\u001b[0mgradf\u001b[0m\u001b[0;34m(\u001b[0m\u001b[0mx\u001b[0m\u001b[0;34m)\u001b[0m\u001b[0;34m.\u001b[0m\u001b[0mT\u001b[0m\u001b[0;34m.\u001b[0m\u001b[0mdot\u001b[0m\u001b[0;34m(\u001b[0m\u001b[0md\u001b[0m\u001b[0;34m)\u001b[0m\u001b[0;34m\u001b[0m\u001b[0;34m\u001b[0m\u001b[0m\n\u001b[1;32m     12\u001b[0m     \u001b[0;32mwhile\u001b[0m \u001b[0miter\u001b[0m \u001b[0;34m<\u001b[0m \u001b[0mitermax\u001b[0m \u001b[0;32mand\u001b[0m \u001b[0;32mnot\u001b[0m \u001b[0mcond1\u001b[0m \u001b[0;32mand\u001b[0m \u001b[0;32mnot\u001b[0m \u001b[0mcond2\u001b[0m \u001b[0;34m:\u001b[0m\u001b[0;34m\u001b[0m\u001b[0;34m\u001b[0m\u001b[0m\n",
      "\u001b[0;31mNameError\u001b[0m: name 'x' is not defined"
     ]
    }
   ],
   "source": [
    "Wolfe_learning_rate(obj_func,obj_grad,start_point, search_gradient)"
   ]
  },
  {
   "cell_type": "code",
   "execution_count": null,
   "metadata": {},
   "outputs": [],
   "source": []
  }
 ],
 "metadata": {
  "kernelspec": {
   "display_name": "Python 3",
   "language": "python",
   "name": "python3"
  },
  "language_info": {
   "codemirror_mode": {
    "name": "ipython",
    "version": 3
   },
   "file_extension": ".py",
   "mimetype": "text/x-python",
   "name": "python",
   "nbconvert_exporter": "python",
   "pygments_lexer": "ipython3",
   "version": "3.7.6"
  }
 },
 "nbformat": 4,
 "nbformat_minor": 4
}
