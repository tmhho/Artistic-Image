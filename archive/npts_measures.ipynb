{
 "cells": [
  {
   "cell_type": "code",
   "execution_count": 17,
   "metadata": {},
   "outputs": [],
   "source": [
    "from numpy import linalg as npl \n",
    "import scipy \n",
    "from scipy import interpolate\n",
    "import numpy as np \n",
    "import matplotlib.pyplot as plt\n",
    "\n",
    "def convol(a,b):\n",
    "    return np.fft.ifftshift(np.fft.ifft(np.fft.fft(a)*np.fft.fft(b)))\n",
    "\n",
    "def H(x):\n",
    "    return abs(x)\n",
    "\n",
    "def Hp(x):\n",
    "    N = len(x)\n",
    "    Hgrid = x/abs(x**2)\n",
    "    Hgrid[N//2] = 0 \n",
    "    return Hgrid\n",
    "\n",
    "def remove_nan(a):\n",
    "    nan_a = np.isnan(a)\n",
    "    non_nan_a = ~ nan_a\n",
    "    return a[non_nan_a]\n",
    "\n",
    "def convolution(pi, grid):\n",
    "    n = pi.shape[0]\n",
    "    n_padded = 2*n +1\n",
    "    pi_padded = np.zeros(n_padded)\n",
    "    pad = (n+1) // 2 \n",
    "    pi_padded[pad:-pad] = pi\n",
    "    S = grid[-1] + (grid[1]-grid[0])*(n_padded-n)/2.\n",
    "    grid_padded = np.linspace(-S, S, n_padded)\n",
    "    Hgrid = H(grid_padded)\n",
    "    conv = convol(pi_padded, Hgrid)\n",
    "    conv = conv[pad:-pad]\n",
    "    return conv.real\n",
    "\n",
    "def convolution_prime(pi, grid):\n",
    "    n = pi.shape[0]\n",
    "    n_padded = 2*n +1\n",
    "    pi_padded = np.zeros(n_padded)\n",
    "    pad = (n+1) // 2 \n",
    "    pi_padded[pad:-pad] = pi\n",
    "    S = grid[-1] + (grid[1]-grid[0])*(n_padded-n)/2.\n",
    "    grid_padded = np.linspace(-S, S, n_padded)\n",
    "    Hgrid = Hp(grid_padded)\n",
    "    conv = convol(pi_padded, Hgrid)\n",
    "    conv = conv[pad:-pad]\n",
    "    return conv.real\n",
    "\n",
    "def interp(grid, ky):\n",
    "    return interpolate.interp1d(grid,ky, fill_value=\"extrapolate\")\n",
    "\n",
    "def F(p):\n",
    "    N = len(p)  \n",
    "    F = 0\n",
    "    for i in range(N):\n",
    "        for j in range(N):\n",
    "            F += H(p[i]-p[j])\n",
    "    return F/(2*N**2)\n",
    "\n",
    "def gradF(p): \n",
    "    N = len(p)\n",
    "    grad = np.zeros(N)\n",
    "    for i in range(N):\n",
    "        grad[i] = np.sum(remove_nan(Hp(p[i]-p)))\n",
    "    return grad/(N**2)\n",
    "\n",
    "def G(p): \n",
    "    ky = convolution(pi, grid)\n",
    "    f = interp(grid,ky)\n",
    "    return np.sum(f(p))/len(p)\n",
    "\n",
    "def gradG(p):\n",
    "    N = len(p)\n",
    "    ky = convolution_prime(pi, grid)\n",
    "    f = interp(grid,ky)\n",
    "    grad = np.zeros(N)\n",
    "    for i in range(N):\n",
    "        grad[i] = np.sum(f(p[i]))\n",
    "    return grad/len(p)\n",
    "\n",
    "def J(p):\n",
    "    return F(p) - G(p)\n",
    "\n",
    "def gradJ(p):\n",
    "    return gradF(p) - gradG(p)\n",
    "\n",
    "def Gradient(J,gradJ,h=1e-5, pini = np.zeros(20)): \n",
    "    p = np.copy(pini) \n",
    "    y = [p] \n",
    "    eps = 1e-10 \n",
    "    itermax = 1000 \n",
    "    err = 2*eps \n",
    "    iter = 0 \n",
    "    while err>eps and iter<itermax:\n",
    "        p = p - h*gradJ(p)\n",
    "        y.append(p) \n",
    "        err = np.linalg.norm(gradJ(p)) \n",
    "        iter += 1 \n",
    "    xiter=np.array(y) \n",
    "    return p,xiter,iter"
   ]
  },
  {
   "cell_type": "code",
   "execution_count": 13,
   "metadata": {},
   "outputs": [
    {
     "name": "stderr",
     "output_type": "stream",
     "text": [
      "/opt/anaconda3/lib/python3.7/site-packages/ipykernel_launcher.py:14: RuntimeWarning: invalid value encountered in true_divide\n",
      "  \n"
     ]
    }
   ],
   "source": [
    "N = 67\n",
    "grid = (np.arange(N)+0.5)/N - 0.5\n",
    "p = np.linspace(0,1,20)\n",
    "pi = np.arange(1,N+1)/N\n",
    "pmin, xiter, iter_ = Gradient(J,gradJ,pini=p)"
   ]
  },
  {
   "cell_type": "code",
   "execution_count": 14,
   "metadata": {},
   "outputs": [
    {
     "name": "stdout",
     "output_type": "stream",
     "text": [
      "[-0.03260303  0.02337311  0.0804997   0.1388013   0.19853112  0.26019583\n",
      "  0.32477259  0.3947471   0.48290495  0.81330677  1.39483806  1.97699966\n",
      "  2.55741359  3.13813243  3.71889892  4.29965745  4.88037621  5.46101359\n",
      "  6.04147657  6.62140113]\n"
     ]
    }
   ],
   "source": [
    "print(pmin)"
   ]
  },
  {
   "cell_type": "code",
   "execution_count": 15,
   "metadata": {},
   "outputs": [
    {
     "name": "stderr",
     "output_type": "stream",
     "text": [
      "/opt/anaconda3/lib/python3.7/site-packages/ipykernel_launcher.py:14: RuntimeWarning: invalid value encountered in true_divide\n",
      "  \n"
     ]
    }
   ],
   "source": [
    "pi2 = np.zeros(20)\n",
    "for i in range(20):\n",
    "    pi2[i] = pi[i]**2 \n",
    "pmin2, xiter2, iter2 = Gradient(J, gradJ, pini = p)\n"
   ]
  },
  {
   "cell_type": "code",
   "execution_count": 25,
   "metadata": {},
   "outputs": [
    {
     "data": {
      "text/plain": [
       "[<matplotlib.lines.Line2D at 0xb1d8fb610>]"
      ]
     },
     "execution_count": 25,
     "metadata": {},
     "output_type": "execute_result"
    },
    {
     "data": {
      "image/png": "[encoded data removed]",
      "text/plain": [
       "<Figure size 432x288 with 1 Axes>"
      ]
     },
     "metadata": {
      "needs_background": "light"
     },
     "output_type": "display_data"
    }
   ],
   "source": []
  },
  {
   "cell_type": "code",
   "execution_count": null,
   "metadata": {},
   "outputs": [],
   "source": []
  }
 ],
 "metadata": {
  "kernelspec": {
   "display_name": "Python 3",
   "language": "python",
   "name": "python3"
  },
  "language_info": {
   "codemirror_mode": {
    "name": "ipython",
    "version": 3
   },
   "file_extension": ".py",
   "mimetype": "text/x-python",
   "name": "python",
   "nbconvert_exporter": "python",
   "pygments_lexer": "ipython3",
   "version": "3.7.6"
  }
 },
 "nbformat": 4,
 "nbformat_minor": 2
}
