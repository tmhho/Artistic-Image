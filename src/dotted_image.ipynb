{
 "cells": [
  {
   "cell_type": "code",
   "execution_count": null,
   "metadata": {},
   "outputs": [],
   "source": [
    "%run -i 'myscript.py'\n",
    "%run -i 'poisson_disc.py'\n",
    "N = 401\n",
    "pi = importIMG('../images/nirvana.png', N, show = False)\n",
    "\n",
    "xgrid = (np.arange(N)+0.5)/N - 0.5\n",
    "ygrid = (np.arange(N)+0.5)/N - 0.5\n",
    "\n",
    "\n",
    "p = scale(PoissonDisc(0.03,10))\n",
    "num_pts = len(p)\n",
    "myplot(p,0)\n",
    "print(num_pts)\n",
    "# num_pts = 300\n",
    "# px = np.random.uniform(-0.5,0.5,num_pts)\n",
    "# py = np.random.uniform(-0.5,0.5,num_pts)\n",
    "# p = np.zeros([num_pts,2])\n",
    "# p[:,0] = px\n",
    "# p[:,1] = py"
   ]
  },
  {
   "cell_type": "code",
   "execution_count": null,
   "metadata": {},
   "outputs": [],
   "source": [
    "pmin = GradDescent(J,gradJ,p,pi,xgrid,ygrid,1000,30)"
   ]
  },
  {
   "cell_type": "code",
   "execution_count": null,
   "metadata": {
    "scrolled": true
   },
   "outputs": [],
   "source": [
    "%run -i 'constraint.py'\n",
    "pmin = GradDescent_constraint(J, gradJ, p, pi, xgrid, ygrid, 1000, 0.1, 15)"
   ]
  },
  {
   "cell_type": "code",
   "execution_count": null,
   "metadata": {},
   "outputs": [],
   "source": []
  },
  {
   "cell_type": "code",
   "execution_count": null,
   "metadata": {},
   "outputs": [],
   "source": []
  },
  {
   "cell_type": "code",
   "execution_count": null,
   "metadata": {},
   "outputs": [],
   "source": []
  },
  {
   "cell_type": "code",
   "execution_count": null,
   "metadata": {},
   "outputs": [],
   "source": []
  },
  {
   "cell_type": "code",
   "execution_count": null,
   "metadata": {},
   "outputs": [],
   "source": []
  }
 ],
 "metadata": {
  "kernelspec": {
   "display_name": "Python 3",
   "language": "python",
   "name": "python3"
  },
  "language_info": {
   "codemirror_mode": {
    "name": "ipython",
    "version": 3
   },
   "file_extension": ".py",
   "mimetype": "text/x-python",
   "name": "python",
   "nbconvert_exporter": "python",
   "pygments_lexer": "ipython3",
   "version": "3.8.5"
  }
 },
 "nbformat": 4,
 "nbformat_minor": 2
}
